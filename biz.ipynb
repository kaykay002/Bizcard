{
 "cells": [
  {
   "cell_type": "code",
   "execution_count": 1,
   "metadata": {},
   "outputs": [],
   "source": [
    "import streamlit as st\n",
    "from streamlit_option_menu import option_menu\n",
    "import psycopg2\n",
    "import pandas as pd "
   ]
  },
  {
   "cell_type": "code",
   "execution_count": 8,
   "metadata": {},
   "outputs": [],
   "source": [
    "import cv2  \n",
    "import matplotlib.pyplot as plt\n",
    "import numpy as np\n",
    "from PIL import ImageFont, ImageDraw, Image\n",
    "import re\n",
    "import easyocr"
   ]
  },
  {
   "cell_type": "code",
   "execution_count": null,
   "metadata": {},
   "outputs": [],
   "source": [
    "import pandas as pd\n",
    "import re\n",
    "import easyocr"
   ]
  },
  {
   "cell_type": "code",
   "execution_count": 3,
   "metadata": {},
   "outputs": [
    {
     "name": "stdout",
     "output_type": "stream",
     "text": [
      "Requirement already satisfied: regex in c:\\users\\admin\\desktop\\guvi\\capstone project\\biz card ocr\\.venv\\lib\\site-packages (2023.12.25)Note: you may need to restart the kernel to use updated packages.\n",
      "\n"
     ]
    }
   ],
   "source": [
    "pip install regex"
   ]
  },
  {
   "cell_type": "code",
   "execution_count": 10,
   "metadata": {},
   "outputs": [
    {
     "name": "stderr",
     "output_type": "stream",
     "text": [
      "Neither CUDA nor MPS are available - defaulting to CPU. Note: This module is much faster with a GPU.\n"
     ]
    }
   ],
   "source": [
    "\n",
    "reader = easyocr.Reader(['en'])"
   ]
  },
  {
   "cell_type": "code",
   "execution_count": 65,
   "metadata": {},
   "outputs": [],
   "source": [
    "result = reader.readtext(r\"C:\\Users\\Admin\\Desktop\\GUVI\\Capstone Project\\Biz card OCR\\2.png\")"
   ]
  },
  {
   "cell_type": "code",
   "execution_count": 59,
   "metadata": {},
   "outputs": [],
   "source": [
    "def regular_expression(result):\n",
    "\n",
    "    # Define regular expressions for data classification\n",
    "    name_regex = r\"^[A-Za-z\\s]+$\"\n",
    "    designation_regex = r\"^[A-Za-z\\s]+$\"\n",
    "    company_regex = r\"[A-Za-z\\s]+ Inc\\.$\" \n",
    "    email_regex = r\"\\b[A-Za-z0-9._%+-]+@[A-Za-z0-9.-]+\\.[A-Z|a-z]{2,}\\b\"\n",
    "    website_regex = r\"https?://(?:[-\\w.]|(?:%[\\da-fA-F]{2}))+|www\\.[A-Za-z0-9.-]+\\.[A-Z|a-z]{2,}\\b\"\n",
    "    address_regex = r\"\\d+\\s[A-Za-z\\s]+\"\n",
    "    contact_regex = r\"\\+\\d{3}-\\d{3}-\\d{4}\"\n",
    "\n",
    "    # Initialize empty lists to store detected data\n",
    "    names = []\n",
    "    designations = []\n",
    "    companies = []\n",
    "    emails = []\n",
    "    websites = []\n",
    "    addresses = []\n",
    "    contacts = []\n",
    "\n",
    "    # Match OCR-extracted text with regular expressions and store in respective lists\n",
    "    for detection in result:\n",
    "        ocr_text = detection[1]\n",
    "        print(\"OCR Text:\", ocr_text)\n",
    "        \n",
    "        if re.match(name_regex, ocr_text):\n",
    "            names.append(ocr_text)\n",
    "            print(\"Name matched:\", ocr_text)\n",
    "        if re.match(designation_regex, ocr_text):\n",
    "            designations.append(ocr_text)\n",
    "            print(\"Designation matched:\", ocr_text)\n",
    "        if re.match(company_regex, ocr_text):\n",
    "            companies.append(ocr_text)\n",
    "            print(\"Company matched:\", ocr_text)\n",
    "        elif re.match(email_regex, ocr_text):\n",
    "            emails.append(ocr_text)\n",
    "            print(\"Email matched:\", ocr_text)\n",
    "        elif re.match(website_regex, ocr_text):\n",
    "            websites.append(ocr_text)\n",
    "            print(\"Website matched:\", ocr_text)\n",
    "        elif re.match(address_regex, ocr_text):\n",
    "            addresses.append(ocr_text)\n",
    "            print(\"Address matched:\", ocr_text)\n",
    "        elif re.match(contact_regex, ocr_text):\n",
    "            contacts.append(ocr_text)\n",
    "            print(\"Contact matched:\", ocr_text)\n",
    "\n",
    "    # Print lengths of the lists\n",
    "    print(\"Length of names:\", len(names))\n",
    "    print(\"Length of designation:\", len(designations))\n",
    "    print(\"Length of company:\", len(companies))\n",
    "    print(\"Length of emails:\", len(emails))\n",
    "    print(\"Length of websites:\", len(websites))\n",
    "    print(\"Length of addresses:\", len(addresses))\n",
    "    print(\"Length of contacts:\", len(contacts))\n",
    "\n",
    "    # Create DataFrame from detected data\n",
    "    df = pd.DataFrame({\n",
    "        \"Name\": names[0],\n",
    "        \"Designation\": designations[1],\n",
    "        \"Company\": companies,\n",
    "        \"Email\": emails,\n",
    "        \"Website\": websites,\n",
    "        \"Address\": addresses,\n",
    "        \"Contact\": contacts\n",
    "    })\n",
    "\n",
    "    # Display the DataFrame\n",
    "    print(df)\n",
    "    "
   ]
  },
  {
   "cell_type": "code",
   "execution_count": 62,
   "metadata": {},
   "outputs": [
    {
     "name": "stdout",
     "output_type": "stream",
     "text": [
      "OCR Text: Avery Davis\n",
      "Name matched: Avery Davis\n",
      "Designation matched: Avery Davis\n",
      "OCR Text: Director\n",
      "Name matched: Director\n",
      "Designation matched: Director\n",
      "OCR Text: Larana Inc.\n",
      "Company matched: Larana Inc.\n",
      "OCR Text: +123-456-7890\n",
      "Contact matched: +123-456-7890\n",
      "OCR Text: averydavis@larana.com\n",
      "Email matched: averydavis@larana.com\n",
      "OCR Text: www.laranainc.com\n",
      "Website matched: www.laranainc.com\n",
      "OCR Text: 123 London Street\n",
      "Address matched: 123 London Street\n",
      "Length of names: 2\n",
      "Length of designation: 2\n",
      "Length of company: 1\n",
      "Length of emails: 1\n",
      "Length of websites: 1\n",
      "Length of addresses: 1\n",
      "Length of contacts: 1\n",
      "          Name Designation      Company                  Email  \\\n",
      "0  Avery Davis    Director  Larana Inc.  averydavis@larana.com   \n",
      "\n",
      "             Website            Address        Contact  \n",
      "0  www.laranainc.com  123 London Street  +123-456-7890  \n"
     ]
    }
   ],
   "source": [
    "regular_expression(result)"
   ]
  },
  {
   "cell_type": "code",
   "execution_count": 58,
   "metadata": {},
   "outputs": [],
   "source": [
    "def detection():\n",
    "    img_np = np.array(input_image)\n",
    "    spacer = 300\n",
    "    font = cv2.FONT_HERSHEY_SIMPLEX\n",
    "\n",
    "    for detection in result: \n",
    "        text = detection[1]\n",
    "        \n",
    "        top_left = tuple(map(int, detection[0][0]))\n",
    "        bottom_right = tuple(map(int, detection[0][2]))\n",
    "        if len(top_left) == 2 and len(bottom_right) == 2:\n",
    "            img_np = cv2.rectangle(img_np, top_left, bottom_right, (0, 255, 0), 2)\n",
    "        else:\n",
    "            print(\"Invalid coordinates format\")\n",
    "        \n",
    "        text_position = (top_left[0], top_left[1] - 10)\n",
    "        img_np = cv2.putText(img_np, text, text_position, font, 0.5, (255, 0, 0), 2, cv2.LINE_AA)       "
   ]
  },
  {
   "cell_type": "code",
   "execution_count": null,
   "metadata": {},
   "outputs": [],
   "source": [
    "#sql connection\n",
    "\n",
    "mydb = psycopg2.connect(host='localhost',\n",
    "                             user='postgres',\n",
    "                             password=12345,\n",
    "                             database='bizcard_database',\n",
    "                             port=5432)\n",
    "cursor = mydb.cursor()\n",
    "\n",
    "cursor.execute(\"SELECT EXISTS (SELECT 1 FROM information_schema.tables WHERE table_name = 'bizcard')\")\n",
    "table_exists = cursor.fetchone()[0]\n",
    "\n",
    "if not table_exists:\n",
    "    create_query = '''create table bizcard(\n",
    "                                    Name varchar(200),\n",
    "                                    Designation varchar(150),\n",
    "                                    Comapany_name varchar(300),\n",
    "                                    Website varchar(100),\n",
    "                                    Email varchar(100),\n",
    "                                    Contact_no int,\n",
    "                                    Address text\n",
    "                                    '''\n",
    "\n",
    "    cursor.execute(create_query)\n",
    "    mydb.commit()\n",
    "\n",
    "for index, row in df3.iterrows():\n",
    "        insert_query = '''INSERT INTO youtube_comment(\n",
    "                                                Comment_Id,\n",
    "                                                Video_Id,\n",
    "                                                Comment_Text,\n",
    "                                                Comment_Author,\n",
    "                                                Comment_Published_Date)\n",
    "        VALUES (%s,%s,%s,%s,%s)\n",
    "        ON CONFLICT (Comment_Id) DO NOTHING'''  # Ignore insertion if Comment_Id already exists\n",
    "\n",
    "        values = (row['Comment_Id'],\n",
    "                  row['Video_Id'],\n",
    "                  row['Comment_Text'],\n",
    "                  row['Comment_Author'],\n",
    "                  row['Comment_Published_Date'])\n",
    "\n",
    "        try:\n",
    "            cursor.execute(insert_query, values)\n",
    "            mydb.commit()\n",
    "        except psycopg2.IntegrityError:\n",
    "            print(\"Comment Data already present\")"
   ]
  },
  {
   "cell_type": "code",
   "execution_count": 77,
   "metadata": {},
   "outputs": [],
   "source": [
    "def regular_expression(result):\n",
    "\n",
    "    # Define regular expressions for data classification\n",
    "    # Define regular expressions for data classification\n",
    "    name_regex = r\"^[A-Za-z\\s]+$\"\n",
    "    designation_regex = r\".*Manager$\"\n",
    "    company_regex = r\"^[A-Za-z\\s]+ Inc\\.$\"\n",
    "    email_regex = r\"\\b[A-Za-z0-9._%+-]+@[A-Za-z0-9.-]+\\.[A-Za-z]{2,}(?:\\s+[A-Za-z0-9._%+-]+@[A-Za-z0-9.-]+\\.[A-Za-z]{2,})?\\b\"    \n",
    "    website_regex = r\"https?://(?:[-\\w.]|(?:%[\\da-fA-F]{2}))+|www\\.[A-Za-z0-9.-]+\\.[A-Z|a-z]{2,}\\b\"\n",
    "    address_regex = r\"\\d+\\s[A-Za-z\\s]+\"\n",
    "    contact_regex = r\"\\+\\d{3}-\\d{3}-\\d{4}\"\n",
    "\n",
    "\n",
    "    # Initialize empty lists to store detected data\n",
    "    names = []\n",
    "    designations = []\n",
    "    companies = []\n",
    "    emails = []\n",
    "    websites = []\n",
    "    addresses = []\n",
    "    contacts = []\n",
    "\n",
    "    # Match OCR-extracted text with regular expressions and store in respective lists\n",
    "    for detection in result:\n",
    "        ocr_text = detection[1]\n",
    "        print(\"OCR Text:\", ocr_text)\n",
    "        \n",
    "        if re.match(name_regex, ocr_text):\n",
    "            names.append(ocr_text)\n",
    "            print(\"Name matched:\", ocr_text)\n",
    "        if re.match(designation_regex, ocr_text):\n",
    "            designations.append(ocr_text)\n",
    "            print(\"Designation matched:\", ocr_text)\n",
    "        if re.match(company_regex, ocr_text):\n",
    "            companies.append(ocr_text)\n",
    "            print(\"Company matched:\", ocr_text)\n",
    "        elif re.match(email_regex, ocr_text):\n",
    "            emails.append(ocr_text)\n",
    "            print(\"Email matched:\", ocr_text)\n",
    "        elif re.match(website_regex, ocr_text):\n",
    "            websites.append(ocr_text)\n",
    "            print(\"Website matched:\", ocr_text)\n",
    "        elif re.match(address_regex, ocr_text):\n",
    "            addresses.append(ocr_text)\n",
    "            print(\"Address matched:\", ocr_text)\n",
    "        elif re.match(contact_regex, ocr_text):\n",
    "            contacts.append(ocr_text)\n",
    "            print(\"Contact matched:\", ocr_text)\n",
    "\n",
    "    \n",
    "\n",
    "    # Create DataFrame from detected data\n",
    "    df = pd.DataFrame({\n",
    "        \"Name\": names,\n",
    "        \"Designation\": designations,\n",
    "        \"Company\": companies,\n",
    "        \"Email\": emails,\n",
    "        \"Website\": websites,\n",
    "        \"Address\": addresses,\n",
    "        \"Contact\": contacts\n",
    "    })\n",
    "\n",
    "    # Display the DataFrame\n",
    "    print(df)\n",
    "    "
   ]
  },
  {
   "cell_type": "code",
   "execution_count": 78,
   "metadata": {},
   "outputs": [],
   "source": [
    "result = reader.readtext(r\"C:\\Users\\Admin\\Desktop\\GUVI\\Capstone Project\\Biz card OCR\\3.png\")"
   ]
  },
  {
   "cell_type": "code",
   "execution_count": 79,
   "metadata": {},
   "outputs": [
    {
     "name": "stdout",
     "output_type": "stream",
     "text": [
      "OCR Text: Maya Sarabhai\n",
      "Name matched: Maya Sarabhai\n",
      "OCR Text: Marketing Manager\n",
      "Name matched: Marketing Manager\n",
      "Designation matched: Marketing Manager\n",
      "OCR Text: +121-000-1122\n",
      "Contact matched: +121-000-1122\n",
      "OCR Text: mayasarabhai@healtcareinc com\n",
      "OCR Text: Healthcare Inc.\n",
      "Company matched: Healthcare Inc.\n",
      "OCR Text: WWWhealthcareinccom\n",
      "Name matched: WWWhealthcareinccom\n",
      "OCR Text: 56 Pune Maharashtra\n",
      "Address matched: 56 Pune Maharashtra\n"
     ]
    },
    {
     "ename": "ValueError",
     "evalue": "All arrays must be of the same length",
     "output_type": "error",
     "traceback": [
      "\u001b[1;31m---------------------------------------------------------------------------\u001b[0m",
      "\u001b[1;31mValueError\u001b[0m                                Traceback (most recent call last)",
      "Cell \u001b[1;32mIn[79], line 1\u001b[0m\n\u001b[1;32m----> 1\u001b[0m \u001b[43mregular_expression\u001b[49m\u001b[43m(\u001b[49m\u001b[43mresult\u001b[49m\u001b[43m)\u001b[49m\n",
      "Cell \u001b[1;32mIn[77], line 53\u001b[0m, in \u001b[0;36mregular_expression\u001b[1;34m(result)\u001b[0m\n\u001b[0;32m     48\u001b[0m         \u001b[38;5;28mprint\u001b[39m(\u001b[38;5;124m\"\u001b[39m\u001b[38;5;124mContact matched:\u001b[39m\u001b[38;5;124m\"\u001b[39m, ocr_text)\n\u001b[0;32m     52\u001b[0m \u001b[38;5;66;03m# Create DataFrame from detected data\u001b[39;00m\n\u001b[1;32m---> 53\u001b[0m df \u001b[38;5;241m=\u001b[39m \u001b[43mpd\u001b[49m\u001b[38;5;241;43m.\u001b[39;49m\u001b[43mDataFrame\u001b[49m\u001b[43m(\u001b[49m\u001b[43m{\u001b[49m\n\u001b[0;32m     54\u001b[0m \u001b[43m    \u001b[49m\u001b[38;5;124;43m\"\u001b[39;49m\u001b[38;5;124;43mName\u001b[39;49m\u001b[38;5;124;43m\"\u001b[39;49m\u001b[43m:\u001b[49m\u001b[43m \u001b[49m\u001b[43mnames\u001b[49m\u001b[43m,\u001b[49m\n\u001b[0;32m     55\u001b[0m \u001b[43m    \u001b[49m\u001b[38;5;124;43m\"\u001b[39;49m\u001b[38;5;124;43mDesignation\u001b[39;49m\u001b[38;5;124;43m\"\u001b[39;49m\u001b[43m:\u001b[49m\u001b[43m \u001b[49m\u001b[43mdesignations\u001b[49m\u001b[43m,\u001b[49m\n\u001b[0;32m     56\u001b[0m \u001b[43m    \u001b[49m\u001b[38;5;124;43m\"\u001b[39;49m\u001b[38;5;124;43mCompany\u001b[39;49m\u001b[38;5;124;43m\"\u001b[39;49m\u001b[43m:\u001b[49m\u001b[43m \u001b[49m\u001b[43mcompanies\u001b[49m\u001b[43m,\u001b[49m\n\u001b[0;32m     57\u001b[0m \u001b[43m    \u001b[49m\u001b[38;5;124;43m\"\u001b[39;49m\u001b[38;5;124;43mEmail\u001b[39;49m\u001b[38;5;124;43m\"\u001b[39;49m\u001b[43m:\u001b[49m\u001b[43m \u001b[49m\u001b[43memails\u001b[49m\u001b[43m,\u001b[49m\n\u001b[0;32m     58\u001b[0m \u001b[43m    \u001b[49m\u001b[38;5;124;43m\"\u001b[39;49m\u001b[38;5;124;43mWebsite\u001b[39;49m\u001b[38;5;124;43m\"\u001b[39;49m\u001b[43m:\u001b[49m\u001b[43m \u001b[49m\u001b[43mwebsites\u001b[49m\u001b[43m,\u001b[49m\n\u001b[0;32m     59\u001b[0m \u001b[43m    \u001b[49m\u001b[38;5;124;43m\"\u001b[39;49m\u001b[38;5;124;43mAddress\u001b[39;49m\u001b[38;5;124;43m\"\u001b[39;49m\u001b[43m:\u001b[49m\u001b[43m \u001b[49m\u001b[43maddresses\u001b[49m\u001b[43m,\u001b[49m\n\u001b[0;32m     60\u001b[0m \u001b[43m    \u001b[49m\u001b[38;5;124;43m\"\u001b[39;49m\u001b[38;5;124;43mContact\u001b[39;49m\u001b[38;5;124;43m\"\u001b[39;49m\u001b[43m:\u001b[49m\u001b[43m \u001b[49m\u001b[43mcontacts\u001b[49m\n\u001b[0;32m     61\u001b[0m \u001b[43m\u001b[49m\u001b[43m}\u001b[49m\u001b[43m)\u001b[49m\n\u001b[0;32m     63\u001b[0m \u001b[38;5;66;03m# Display the DataFrame\u001b[39;00m\n\u001b[0;32m     64\u001b[0m \u001b[38;5;28mprint\u001b[39m(df)\n",
      "File \u001b[1;32mc:\\Users\\Admin\\Desktop\\GUVI\\Capstone Project\\Biz card OCR\\.venv\\Lib\\site-packages\\pandas\\core\\frame.py:767\u001b[0m, in \u001b[0;36mDataFrame.__init__\u001b[1;34m(self, data, index, columns, dtype, copy)\u001b[0m\n\u001b[0;32m    761\u001b[0m     mgr \u001b[38;5;241m=\u001b[39m \u001b[38;5;28mself\u001b[39m\u001b[38;5;241m.\u001b[39m_init_mgr(\n\u001b[0;32m    762\u001b[0m         data, axes\u001b[38;5;241m=\u001b[39m{\u001b[38;5;124m\"\u001b[39m\u001b[38;5;124mindex\u001b[39m\u001b[38;5;124m\"\u001b[39m: index, \u001b[38;5;124m\"\u001b[39m\u001b[38;5;124mcolumns\u001b[39m\u001b[38;5;124m\"\u001b[39m: columns}, dtype\u001b[38;5;241m=\u001b[39mdtype, copy\u001b[38;5;241m=\u001b[39mcopy\n\u001b[0;32m    763\u001b[0m     )\n\u001b[0;32m    765\u001b[0m \u001b[38;5;28;01melif\u001b[39;00m \u001b[38;5;28misinstance\u001b[39m(data, \u001b[38;5;28mdict\u001b[39m):\n\u001b[0;32m    766\u001b[0m     \u001b[38;5;66;03m# GH#38939 de facto copy defaults to False only in non-dict cases\u001b[39;00m\n\u001b[1;32m--> 767\u001b[0m     mgr \u001b[38;5;241m=\u001b[39m \u001b[43mdict_to_mgr\u001b[49m\u001b[43m(\u001b[49m\u001b[43mdata\u001b[49m\u001b[43m,\u001b[49m\u001b[43m \u001b[49m\u001b[43mindex\u001b[49m\u001b[43m,\u001b[49m\u001b[43m \u001b[49m\u001b[43mcolumns\u001b[49m\u001b[43m,\u001b[49m\u001b[43m \u001b[49m\u001b[43mdtype\u001b[49m\u001b[38;5;241;43m=\u001b[39;49m\u001b[43mdtype\u001b[49m\u001b[43m,\u001b[49m\u001b[43m \u001b[49m\u001b[43mcopy\u001b[49m\u001b[38;5;241;43m=\u001b[39;49m\u001b[43mcopy\u001b[49m\u001b[43m,\u001b[49m\u001b[43m \u001b[49m\u001b[43mtyp\u001b[49m\u001b[38;5;241;43m=\u001b[39;49m\u001b[43mmanager\u001b[49m\u001b[43m)\u001b[49m\n\u001b[0;32m    768\u001b[0m \u001b[38;5;28;01melif\u001b[39;00m \u001b[38;5;28misinstance\u001b[39m(data, ma\u001b[38;5;241m.\u001b[39mMaskedArray):\n\u001b[0;32m    769\u001b[0m     \u001b[38;5;28;01mfrom\u001b[39;00m \u001b[38;5;21;01mnumpy\u001b[39;00m\u001b[38;5;21;01m.\u001b[39;00m\u001b[38;5;21;01mma\u001b[39;00m \u001b[38;5;28;01mimport\u001b[39;00m mrecords\n",
      "File \u001b[1;32mc:\\Users\\Admin\\Desktop\\GUVI\\Capstone Project\\Biz card OCR\\.venv\\Lib\\site-packages\\pandas\\core\\internals\\construction.py:503\u001b[0m, in \u001b[0;36mdict_to_mgr\u001b[1;34m(data, index, columns, dtype, typ, copy)\u001b[0m\n\u001b[0;32m    499\u001b[0m     \u001b[38;5;28;01melse\u001b[39;00m:\n\u001b[0;32m    500\u001b[0m         \u001b[38;5;66;03m# dtype check to exclude e.g. range objects, scalars\u001b[39;00m\n\u001b[0;32m    501\u001b[0m         arrays \u001b[38;5;241m=\u001b[39m [x\u001b[38;5;241m.\u001b[39mcopy() \u001b[38;5;28;01mif\u001b[39;00m \u001b[38;5;28mhasattr\u001b[39m(x, \u001b[38;5;124m\"\u001b[39m\u001b[38;5;124mdtype\u001b[39m\u001b[38;5;124m\"\u001b[39m) \u001b[38;5;28;01melse\u001b[39;00m x \u001b[38;5;28;01mfor\u001b[39;00m x \u001b[38;5;129;01min\u001b[39;00m arrays]\n\u001b[1;32m--> 503\u001b[0m \u001b[38;5;28;01mreturn\u001b[39;00m \u001b[43marrays_to_mgr\u001b[49m\u001b[43m(\u001b[49m\u001b[43marrays\u001b[49m\u001b[43m,\u001b[49m\u001b[43m \u001b[49m\u001b[43mcolumns\u001b[49m\u001b[43m,\u001b[49m\u001b[43m \u001b[49m\u001b[43mindex\u001b[49m\u001b[43m,\u001b[49m\u001b[43m \u001b[49m\u001b[43mdtype\u001b[49m\u001b[38;5;241;43m=\u001b[39;49m\u001b[43mdtype\u001b[49m\u001b[43m,\u001b[49m\u001b[43m \u001b[49m\u001b[43mtyp\u001b[49m\u001b[38;5;241;43m=\u001b[39;49m\u001b[43mtyp\u001b[49m\u001b[43m,\u001b[49m\u001b[43m \u001b[49m\u001b[43mconsolidate\u001b[49m\u001b[38;5;241;43m=\u001b[39;49m\u001b[43mcopy\u001b[49m\u001b[43m)\u001b[49m\n",
      "File \u001b[1;32mc:\\Users\\Admin\\Desktop\\GUVI\\Capstone Project\\Biz card OCR\\.venv\\Lib\\site-packages\\pandas\\core\\internals\\construction.py:114\u001b[0m, in \u001b[0;36marrays_to_mgr\u001b[1;34m(arrays, columns, index, dtype, verify_integrity, typ, consolidate)\u001b[0m\n\u001b[0;32m    111\u001b[0m \u001b[38;5;28;01mif\u001b[39;00m verify_integrity:\n\u001b[0;32m    112\u001b[0m     \u001b[38;5;66;03m# figure out the index, if necessary\u001b[39;00m\n\u001b[0;32m    113\u001b[0m     \u001b[38;5;28;01mif\u001b[39;00m index \u001b[38;5;129;01mis\u001b[39;00m \u001b[38;5;28;01mNone\u001b[39;00m:\n\u001b[1;32m--> 114\u001b[0m         index \u001b[38;5;241m=\u001b[39m \u001b[43m_extract_index\u001b[49m\u001b[43m(\u001b[49m\u001b[43marrays\u001b[49m\u001b[43m)\u001b[49m\n\u001b[0;32m    115\u001b[0m     \u001b[38;5;28;01melse\u001b[39;00m:\n\u001b[0;32m    116\u001b[0m         index \u001b[38;5;241m=\u001b[39m ensure_index(index)\n",
      "File \u001b[1;32mc:\\Users\\Admin\\Desktop\\GUVI\\Capstone Project\\Biz card OCR\\.venv\\Lib\\site-packages\\pandas\\core\\internals\\construction.py:677\u001b[0m, in \u001b[0;36m_extract_index\u001b[1;34m(data)\u001b[0m\n\u001b[0;32m    675\u001b[0m lengths \u001b[38;5;241m=\u001b[39m \u001b[38;5;28mlist\u001b[39m(\u001b[38;5;28mset\u001b[39m(raw_lengths))\n\u001b[0;32m    676\u001b[0m \u001b[38;5;28;01mif\u001b[39;00m \u001b[38;5;28mlen\u001b[39m(lengths) \u001b[38;5;241m>\u001b[39m \u001b[38;5;241m1\u001b[39m:\n\u001b[1;32m--> 677\u001b[0m     \u001b[38;5;28;01mraise\u001b[39;00m \u001b[38;5;167;01mValueError\u001b[39;00m(\u001b[38;5;124m\"\u001b[39m\u001b[38;5;124mAll arrays must be of the same length\u001b[39m\u001b[38;5;124m\"\u001b[39m)\n\u001b[0;32m    679\u001b[0m \u001b[38;5;28;01mif\u001b[39;00m have_dicts:\n\u001b[0;32m    680\u001b[0m     \u001b[38;5;28;01mraise\u001b[39;00m \u001b[38;5;167;01mValueError\u001b[39;00m(\n\u001b[0;32m    681\u001b[0m         \u001b[38;5;124m\"\u001b[39m\u001b[38;5;124mMixing dicts with non-Series may lead to ambiguous ordering.\u001b[39m\u001b[38;5;124m\"\u001b[39m\n\u001b[0;32m    682\u001b[0m     )\n",
      "\u001b[1;31mValueError\u001b[0m: All arrays must be of the same length"
     ]
    }
   ],
   "source": [
    "regular_expression(result)"
   ]
  }
 ],
 "metadata": {
  "kernelspec": {
   "display_name": ".venv",
   "language": "python",
   "name": "python3"
  },
  "language_info": {
   "codemirror_mode": {
    "name": "ipython",
    "version": 3
   },
   "file_extension": ".py",
   "mimetype": "text/x-python",
   "name": "python",
   "nbconvert_exporter": "python",
   "pygments_lexer": "ipython3",
   "version": "3.12.2"
  }
 },
 "nbformat": 4,
 "nbformat_minor": 2
}
